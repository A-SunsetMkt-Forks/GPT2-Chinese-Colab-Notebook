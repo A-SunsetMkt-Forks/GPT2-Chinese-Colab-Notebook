{
 "cells": [
  {
   "cell_type": "code",
   "execution_count": null,
   "metadata": {
    "colab": {
     "base_uri": "https://localhost:8080/",
     "height": 34
    },
    "executionInfo": {
     "elapsed": 22,
     "status": "ok",
     "timestamp": 1635457334052,
     "user": {
      "displayName": "Shanshan Yu",
      "photoUrl": "https://lh3.googleusercontent.com/a-/AOh14GjzsjWACGM3k2087U4PULfFM_OQDw2kKBXNhn-9=s64",
      "userId": "09229367921161044225"
     },
     "user_tz": 420
    },
    "id": "K7QADQvokUzH",
    "outputId": "02433855-4d7a-4d29-f9a6-050e0c611e1c"
   },
   "outputs": [],
   "source": [
    "# 用来保持连接的\n",
    "import IPython\n",
    "from google.colab import output\n",
    "\n",
    "display(IPython.display.Javascript('''\n",
    " function ClickConnect(){\n",
    "   btn = document.querySelector(\"colab-connect-button\")\n",
    "   if (btn != null){\n",
    "     console.log(\"Click colab-connect-button\"); \n",
    "     btn.click() \n",
    "     }\n",
    "   \n",
    "   btn = document.getElementById('ok')\n",
    "   if (btn != null){\n",
    "     console.log(\"Click reconnect\"); \n",
    "     btn.click() \n",
    "     }\n",
    "  }\n",
    "  \n",
    "setInterval(ClickConnect,60000)\n",
    "'''))\n",
    "\n",
    "print(\"Done.\")"
   ]
  },
  {
   "cell_type": "markdown",
   "metadata": {
    "id": "w58kD9vbAARZ"
   },
   "source": [
    "# 1. 安装环境"
   ]
  },
  {
   "cell_type": "code",
   "execution_count": null,
   "metadata": {
    "colab": {
     "base_uri": "https://localhost:8080/"
    },
    "executionInfo": {
     "elapsed": 1980,
     "status": "ok",
     "timestamp": 1635457336017,
     "user": {
      "displayName": "Shanshan Yu",
      "photoUrl": "https://lh3.googleusercontent.com/a-/AOh14GjzsjWACGM3k2087U4PULfFM_OQDw2kKBXNhn-9=s64",
      "userId": "09229367921161044225"
     },
     "user_tz": 420
    },
    "id": "inPo4CMrAGMU",
    "outputId": "896f37a8-3970-4ab8-cdb6-3f56beb53388"
   },
   "outputs": [],
   "source": [
    "# 克隆的仓库在./GPT2-Chinese 目录下\n",
    "!git clone https://github.com/Morizeyao/GPT2-Chinese.git"
   ]
  },
  {
   "cell_type": "code",
   "execution_count": null,
   "metadata": {
    "colab": {
     "base_uri": "https://localhost:8080/"
    },
    "executionInfo": {
     "elapsed": 47694,
     "status": "ok",
     "timestamp": 1635457383708,
     "user": {
      "displayName": "Shanshan Yu",
      "photoUrl": "https://lh3.googleusercontent.com/a-/AOh14GjzsjWACGM3k2087U4PULfFM_OQDw2kKBXNhn-9=s64",
      "userId": "09229367921161044225"
     },
     "user_tz": 420
    },
    "id": "dx3q7ez0VGY5",
    "outputId": "a9cf7195-c204-473c-c8c9-0c0ccfb0aff0"
   },
   "outputs": [],
   "source": [
    "# 安装需求文件\n",
    "!python3 -m pip install -r ./GPT2-Chinese/requirements.txt"
   ]
  },
  {
   "cell_type": "code",
   "execution_count": null,
   "metadata": {
    "colab": {
     "base_uri": "https://localhost:8080/"
    },
    "executionInfo": {
     "elapsed": 9,
     "status": "ok",
     "timestamp": 1635457383709,
     "user": {
      "displayName": "Shanshan Yu",
      "photoUrl": "https://lh3.googleusercontent.com/a-/AOh14GjzsjWACGM3k2087U4PULfFM_OQDw2kKBXNhn-9=s64",
      "userId": "09229367921161044225"
     },
     "user_tz": 420
    },
    "id": "z_uVk6TyGXGe",
    "outputId": "5e865bba-dd4b-4d8a-bbf4-9f19c572bd0b"
   },
   "outputs": [],
   "source": [
    "# 移动到GPT2-Chinese 路径\n",
    "%cd ./GPT2-Chinese"
   ]
  },
  {
   "cell_type": "code",
   "execution_count": null,
   "metadata": {
    "colab": {
     "base_uri": "https://localhost:8080/"
    },
    "executionInfo": {
     "elapsed": 239,
     "status": "ok",
     "timestamp": 1635457383943,
     "user": {
      "displayName": "Shanshan Yu",
      "photoUrl": "https://lh3.googleusercontent.com/a-/AOh14GjzsjWACGM3k2087U4PULfFM_OQDw2kKBXNhn-9=s64",
      "userId": "09229367921161044225"
     },
     "user_tz": 420
    },
    "id": "QEYIRUGxCZpM",
    "outputId": "245e330d-3f6d-431f-989a-6c319c4a65b8"
   },
   "outputs": [],
   "source": [
    "!mkdir pretrained\n",
    "%cd ./pretrained"
   ]
  },
  {
   "cell_type": "markdown",
   "metadata": {
    "id": "_2bJSuu_HvXg"
   },
   "source": [
    "**下载pretrained model 到新创建的pretrained文件夹**\n",
    "\n",
    "用的是通用中文模型（小）\n",
    "\n",
    "想要用别的模型 到这个repo 找gdrive 链接 https://github.com/Morizeyao/GPT2-Chinese\n",
    "\n",
    "然后拷贝到自己的gdrive就可以，右上三个点-> add shortcut ->然后在快捷方式里对应的文件选make copy\n",
    "\n",
    "再将copy下来的文件改为谁都有修改权限，将分享链接/d/后面的id复制下来就可以下载了"
   ]
  },
  {
   "cell_type": "code",
   "execution_count": null,
   "metadata": {
    "colab": {
     "base_uri": "https://localhost:8080/"
    },
    "executionInfo": {
     "elapsed": 6803,
     "status": "ok",
     "timestamp": 1635457390729,
     "user": {
      "displayName": "Shanshan Yu",
      "photoUrl": "https://lh3.googleusercontent.com/a-/AOh14GjzsjWACGM3k2087U4PULfFM_OQDw2kKBXNhn-9=s64",
      "userId": "09229367921161044225"
     },
     "user_tz": 420
    },
    "id": "Bl0gWAfpApOB",
    "outputId": "3376f48d-320e-470f-c9a8-1edf4c17e53e"
   },
   "outputs": [],
   "source": [
    "!gdown --id 16FmH5ZjpejKLNUtmdTfteZlREQkuVyl5\n",
    "!gdown --id 13Trje1N7YU_1U9iGLpMjRrIFZlg5HC1-\n",
    "!ls"
   ]
  },
  {
   "cell_type": "code",
   "execution_count": null,
   "metadata": {
    "colab": {
     "base_uri": "https://localhost:8080/"
    },
    "executionInfo": {
     "elapsed": 17,
     "status": "ok",
     "timestamp": 1635457390729,
     "user": {
      "displayName": "Shanshan Yu",
      "photoUrl": "https://lh3.googleusercontent.com/a-/AOh14GjzsjWACGM3k2087U4PULfFM_OQDw2kKBXNhn-9=s64",
      "userId": "09229367921161044225"
     },
     "user_tz": 420
    },
    "id": "OkBLFhPjHAgG",
    "outputId": "58bdfede-1dc2-4c3e-9a0c-5f49bb8a42c0"
   },
   "outputs": [],
   "source": [
    "%cd .."
   ]
  },
  {
   "cell_type": "markdown",
   "metadata": {
    "id": "rlujTb5ZHKty"
   },
   "source": [
    "# 2. 转换训练用文本\n",
    "先将你的训练txt发到colab file，以train.txt命名, 记得放在GPT2-Chinese文件夹下"
   ]
  },
  {
   "cell_type": "code",
   "execution_count": null,
   "metadata": {
    "executionInfo": {
     "elapsed": 192,
     "status": "ok",
     "timestamp": 1635457390907,
     "user": {
      "displayName": "Shanshan Yu",
      "photoUrl": "https://lh3.googleusercontent.com/a-/AOh14GjzsjWACGM3k2087U4PULfFM_OQDw2kKBXNhn-9=s64",
      "userId": "09229367921161044225"
     },
     "user_tz": 420
    },
    "id": "BtSxr4_VIBTp"
   },
   "outputs": [],
   "source": [
    "# 删掉原本的json\n",
    "!rm -f train.json\n",
    "!mkdir data"
   ]
  },
  {
   "cell_type": "code",
   "execution_count": null,
   "metadata": {
    "executionInfo": {
     "elapsed": 187,
     "status": "ok",
     "timestamp": 1635457427496,
     "user": {
      "displayName": "Shanshan Yu",
      "photoUrl": "https://lh3.googleusercontent.com/a-/AOh14GjzsjWACGM3k2087U4PULfFM_OQDw2kKBXNhn-9=s64",
      "userId": "09229367921161044225"
     },
     "user_tz": 420
    },
    "id": "_kVtKWjaIh_5"
   },
   "outputs": [],
   "source": [
    "# 根据你的训练文本创建train.json\n",
    "\n",
    "\"\"\"\n",
    "Author: godweiyang\n",
    "\"\"\"\n",
    "\n",
    "import json\n",
    "\n",
    "dic = {}\n",
    "with open(\"train.txt\", \"r\", encoding=\"utf8\") as f:\n",
    "    merge_line = \"\"\n",
    "    for line in f:\n",
    "        line = line.strip()\n",
    "        merge_line += line\n",
    "        if len(merge_line) > 500:\n",
    "            dic[merge_line] = 1\n",
    "            merge_line = \"\"\n",
    "\n",
    "with open(\"./data/train.json\", \"w\", encoding=\"utf8\") as f:\n",
    "    json.dump(dic, f, ensure_ascii=False)"
   ]
  },
  {
   "cell_type": "markdown",
   "metadata": {
    "id": "9NXbDOrrJBjY"
   },
   "source": [
    "# 3. 训练"
   ]
  },
  {
   "cell_type": "code",
   "execution_count": null,
   "metadata": {
    "cellView": "form",
    "executionInfo": {
     "elapsed": 15,
     "status": "aborted",
     "timestamp": 1635457391104,
     "user": {
      "displayName": "Shanshan Yu",
      "photoUrl": "https://lh3.googleusercontent.com/a-/AOh14GjzsjWACGM3k2087U4PULfFM_OQDw2kKBXNhn-9=s64",
      "userId": "09229367921161044225"
     },
     "user_tz": 420
    },
    "id": "Lb_LDuK4JPGK"
   },
   "outputs": [],
   "source": [
    "#@title\n",
    "# 参数用途\n",
    "!python train.py -h"
   ]
  },
  {
   "cell_type": "code",
   "execution_count": null,
   "metadata": {
    "colab": {
     "base_uri": "https://localhost:8080/"
    },
    "executionInfo": {
     "elapsed": 350968,
     "status": "ok",
     "timestamp": 1635457782343,
     "user": {
      "displayName": "Shanshan Yu",
      "photoUrl": "https://lh3.googleusercontent.com/a-/AOh14GjzsjWACGM3k2087U4PULfFM_OQDw2kKBXNhn-9=s64",
      "userId": "09229367921161044225"
     },
     "user_tz": 420
    },
    "id": "H9z9-HKiUwmL",
    "outputId": "27d9057c-7ce8-45bf-db20-88eafe590237"
   },
   "outputs": [],
   "source": [
    "# 超过memory就把batch_size改小点\n",
    "!python train.py --raw --epochs 1 --batch_size 2 --num_pieces 1 --min_length 3 --pretrained_model pretrained"
   ]
  },
  {
   "cell_type": "markdown",
   "metadata": {
    "id": "vfsAF8j1J4xw"
   },
   "source": [
    "# 4. 生成文本\n",
    "一定要等训练完不然会报错\n",
    "\n",
    "原repo不能断点续传\n",
    "\n",
    "如果想再已经训练的模型基础上继续训练可以用`./model`下面存储的model替换pretrained里的model"
   ]
  },
  {
   "cell_type": "code",
   "execution_count": null,
   "metadata": {
    "colab": {
     "base_uri": "https://localhost:8080/"
    },
    "executionInfo": {
     "elapsed": 38147,
     "status": "ok",
     "timestamp": 1635457820899,
     "user": {
      "displayName": "Shanshan Yu",
      "photoUrl": "https://lh3.googleusercontent.com/a-/AOh14GjzsjWACGM3k2087U4PULfFM_OQDw2kKBXNhn-9=s64",
      "userId": "09229367921161044225"
     },
     "user_tz": 420
    },
    "id": "kekMcNGMc9n0",
    "outputId": "112ea077-b378-45e6-9e17-90af8df64997"
   },
   "outputs": [],
   "source": [
    "# length决定长度， nsamples 后面决定生成多少个例子。\n",
    "input = \"我是谁\"\n",
    "!python3 generate.py --length=500 --nsamples=3 --prefix=$input --fast_pattern"
   ]
  }
 ],
 "metadata": {
  "accelerator": "GPU",
  "colab": {
   "authorship_tag": "ABX9TyOKtWQ6JVF99U+C07RiCdQg",
   "collapsed_sections": [],
   "name": "GPT2-Chinese.ipynb",
   "provenance": []
  },
  "kernelspec": {
   "display_name": "Python 3",
   "language": "python",
   "name": "python3"
  },
  "language_info": {
   "codemirror_mode": {
    "name": "ipython",
    "version": 3
   },
   "file_extension": ".py",
   "mimetype": "text/x-python",
   "name": "python",
   "nbconvert_exporter": "python",
   "pygments_lexer": "ipython3",
   "version": "3.9.4"
  }
 },
 "nbformat": 4,
 "nbformat_minor": 1
}
